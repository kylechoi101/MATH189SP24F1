{
 "cells": [
  {
   "cell_type": "markdown",
   "id": "c75e3ef1",
   "metadata": {},
   "source": [
    "# Analyzing the relationship between education level and violent crime in California counties\n"
   ]
  },
  {
   "cell_type": "markdown",
   "id": "709a25e6",
   "metadata": {},
   "source": [
    "**Team Members**\n",
    "1. Kyle Choi\n",
    "2. Nithila Balaji\n",
    "3. Khalil Burrell"
   ]
  },
  {
   "cell_type": "markdown",
   "id": "4aa57f81",
   "metadata": {},
   "source": [
    "**Topic Overview**\n",
    "\n",
    "Our aim is to see if there is a correlation between education level and violent crime in California. In order to do this we will calculate high school graduation rate as a parameter of education among different counties along with violent crime in two specific years and observe the relation (if there is one). We will then calculate the average across both years and see if we are able to generalize a relationship.\n"
   ]
  },
  {
   "cell_type": "code",
   "execution_count": 2,
   "id": "123efd11",
   "metadata": {},
   "outputs": [],
   "source": [
    "# Imports\n",
    "import pandas as pd\n",
    "import numpy as np"
   ]
  },
  {
   "cell_type": "markdown",
   "id": "b48d70d9",
   "metadata": {},
   "source": [
    "## Data Collection and Cleaning"
   ]
  },
  {
   "cell_type": "markdown",
   "id": "c036dc59",
   "metadata": {},
   "source": [
    "**Dataset 1: Violent Crime data**\n",
    "\n",
    "insert source"
   ]
  },
  {
   "cell_type": "code",
   "execution_count": 1,
   "id": "31578b60",
   "metadata": {},
   "outputs": [],
   "source": [
    "## insert cleaned data and small explanation on steps taken"
   ]
  },
  {
   "cell_type": "code",
   "execution_count": 8,
   "id": "c1c80452",
   "metadata": {},
   "outputs": [
    {
     "data": {
      "text/html": [
       "<div>\n",
       "<style scoped>\n",
       "    .dataframe tbody tr th:only-of-type {\n",
       "        vertical-align: middle;\n",
       "    }\n",
       "\n",
       "    .dataframe tbody tr th {\n",
       "        vertical-align: top;\n",
       "    }\n",
       "\n",
       "    .dataframe thead th {\n",
       "        text-align: right;\n",
       "    }\n",
       "</style>\n",
       "<table border=\"1\" class=\"dataframe\">\n",
       "  <thead>\n",
       "    <tr style=\"text-align: right;\">\n",
       "      <th></th>\n",
       "      <th></th>\n",
       "      <th>2017</th>\n",
       "      <th>2022</th>\n",
       "    </tr>\n",
       "  </thead>\n",
       "  <tbody>\n",
       "    <tr>\n",
       "      <th>0</th>\n",
       "      <td>Crimes</td>\n",
       "      <td>NaN</td>\n",
       "      <td>NaN</td>\n",
       "    </tr>\n",
       "    <tr>\n",
       "      <th>1</th>\n",
       "      <td>Violent Crimes</td>\n",
       "      <td>9,923</td>\n",
       "      <td>11,125</td>\n",
       "    </tr>\n",
       "    <tr>\n",
       "      <th>2</th>\n",
       "      <td>Homicide</td>\n",
       "      <td>90</td>\n",
       "      <td>158</td>\n",
       "    </tr>\n",
       "    <tr>\n",
       "      <th>3</th>\n",
       "      <td>Rape (Forcible Rape prior to 2014)</td>\n",
       "      <td>810</td>\n",
       "      <td>691</td>\n",
       "    </tr>\n",
       "    <tr>\n",
       "      <th>4</th>\n",
       "      <td>Rape</td>\n",
       "      <td>768</td>\n",
       "      <td>656</td>\n",
       "    </tr>\n",
       "  </tbody>\n",
       "</table>\n",
       "</div>"
      ],
      "text/plain": [
       "                                        2017    2022\n",
       "0                              Crimes    NaN     NaN\n",
       "1                      Violent Crimes  9,923  11,125\n",
       "2                            Homicide     90     158\n",
       "3  Rape (Forcible Rape prior to 2014)    810     691\n",
       "4                                Rape    768     656"
      ]
     },
     "execution_count": 8,
     "metadata": {},
     "output_type": "execute_result"
    }
   ],
   "source": [
    "a = pd.read_csv('Alameda.csv')\n",
    "a.head()"
   ]
  },
  {
   "cell_type": "code",
   "execution_count": 24,
   "id": "58cc6e89",
   "metadata": {},
   "outputs": [
    {
     "data": {
      "text/plain": [
       "'9,923'"
      ]
     },
     "execution_count": 24,
     "metadata": {},
     "output_type": "execute_result"
    }
   ],
   "source": [
    "a.iloc[1][1]"
   ]
  },
  {
   "cell_type": "code",
   "execution_count": 31,
   "id": "36694089",
   "metadata": {},
   "outputs": [],
   "source": [
    "# List of counties\n",
    "counties = [\n",
    "    'Alameda', 'Alpine', 'Amador', 'Butte', 'Calaveras', 'Colusa', 'Contra Costa', \n",
    "    'Del Norte', 'El Dorado', 'Fresno', 'Glenn', 'Humboldt', 'Imperial', 'Inyo', \n",
    "    'Kern', 'Kings', 'Lake', 'Lassen', 'Los Angeles', 'Madera', 'Marin', 'Mariposa', \n",
    "    'Mendocino', 'Merced', 'Modoc', 'Mono', 'Monterey', 'Napa', 'Nevada', 'Orange', \n",
    "    'Placer', 'Plumas', 'Riverside', 'Sacramento', 'San Benito', 'San Bernardino', \n",
    "    'San Diego', 'San Francisco', 'San Joaquin', 'San Luis Obispo', 'San Mateo', \n",
    "    'Santa Barbara', 'Santa Clara', 'Santa Cruz', 'Shasta', 'Sierra', 'Siskiyou', \n",
    "    'Solano', 'Sonoma', 'Stanislaus', 'Sutter', 'Tehama', 'Trinity', 'Tulare', \n",
    "    'Tuolumne', 'Ventura', 'Yolo', 'Yuba'\n",
    "]\n",
    "\n",
    "# Initialize an empty DataFrame to store the results\n",
    "results_df = pd.DataFrame(columns=['County', '2017', '2022'])\n",
    "\n",
    "# Iterate through each county and process the CSV files\n",
    "for county in counties:\n",
    "    file_path = f'{county}.csv'  # Replace with the actual path to your files\n",
    "    df = pd.read_csv(file_path)\n",
    "    violent_crimes_row = [county, df.iloc[1][1], df.iloc[1][2]]\n",
    "    results_df.loc[len(results_df.index)] = violent_crimes_row\n",
    "    \n",
    "results_df\n",
    "results_df.to_csv('violent_crime_data.csv', index=False)\n"
   ]
  },
  {
   "cell_type": "code",
   "execution_count": null,
   "id": "d6a6e3d8",
   "metadata": {},
   "outputs": [],
   "source": []
  },
  {
   "cell_type": "code",
   "execution_count": null,
   "id": "c381ace2",
   "metadata": {},
   "outputs": [],
   "source": []
  },
  {
   "cell_type": "markdown",
   "id": "a879fe94",
   "metadata": {},
   "source": [
    "**Dataset 2: Graduation data**\n",
    "\n",
    "insert source"
   ]
  },
  {
   "cell_type": "code",
   "execution_count": null,
   "id": "de92480a",
   "metadata": {},
   "outputs": [],
   "source": [
    "## insert cleaned data and small explanation on steps taken"
   ]
  },
  {
   "cell_type": "code",
   "execution_count": null,
   "id": "0f5c6f3f",
   "metadata": {},
   "outputs": [],
   "source": [
    "grad_17 = ''\n",
    "grad_22 = ''"
   ]
  },
  {
   "cell_type": "markdown",
   "id": "8618d2d8",
   "metadata": {},
   "source": [
    "## Regression"
   ]
  },
  {
   "cell_type": "markdown",
   "id": "5c341548",
   "metadata": {},
   "source": [
    "can remove, only for reference!\n",
    "\n",
    "We will employ a regression model for each county’s graduation rate as independent variables and the violent crime rate as dependent variables. Then compare with the same model on a different timeframe to extract if there was a meaningful impact because of the high school graduation rate."
   ]
  },
  {
   "cell_type": "markdown",
   "id": "5fde996a",
   "metadata": {},
   "source": [
    "**Hypotheses**\n",
    "\n",
    "Null Hypothesis (H$_0$): There is no relationship between violent crime rates and high school graduation rate across counties in California in the two selected years.\n",
    "\n",
    "Alternate Hypothesis (H$_a$): There is a negative relationship between violent crime and high school graduation rates across counties in California in the two selected years. That is\n"
   ]
  },
  {
   "cell_type": "code",
   "execution_count": null,
   "id": "a5b9c007",
   "metadata": {},
   "outputs": [],
   "source": []
  },
  {
   "cell_type": "code",
   "execution_count": null,
   "id": "18340dd1",
   "metadata": {},
   "outputs": [],
   "source": []
  },
  {
   "cell_type": "code",
   "execution_count": null,
   "id": "c06edd5e",
   "metadata": {},
   "outputs": [],
   "source": []
  },
  {
   "cell_type": "code",
   "execution_count": null,
   "id": "a1e33971",
   "metadata": {},
   "outputs": [],
   "source": []
  },
  {
   "cell_type": "markdown",
   "id": "77578df7",
   "metadata": {},
   "source": [
    "## Analysis"
   ]
  },
  {
   "cell_type": "code",
   "execution_count": null,
   "id": "d18cccb6",
   "metadata": {},
   "outputs": [],
   "source": []
  },
  {
   "cell_type": "code",
   "execution_count": null,
   "id": "15da736c",
   "metadata": {},
   "outputs": [],
   "source": []
  },
  {
   "cell_type": "code",
   "execution_count": null,
   "id": "462a39c1",
   "metadata": {},
   "outputs": [],
   "source": []
  },
  {
   "cell_type": "markdown",
   "id": "cb435c6c",
   "metadata": {},
   "source": [
    "## Conclusion"
   ]
  },
  {
   "cell_type": "code",
   "execution_count": null,
   "id": "cdf5ea31",
   "metadata": {},
   "outputs": [],
   "source": []
  },
  {
   "cell_type": "code",
   "execution_count": null,
   "id": "7c7a2f1b",
   "metadata": {},
   "outputs": [],
   "source": []
  }
 ],
 "metadata": {
  "kernelspec": {
   "display_name": "Python 3 (ipykernel)",
   "language": "python",
   "name": "python3"
  },
  "language_info": {
   "codemirror_mode": {
    "name": "ipython",
    "version": 3
   },
   "file_extension": ".py",
   "mimetype": "text/x-python",
   "name": "python",
   "nbconvert_exporter": "python",
   "pygments_lexer": "ipython3",
   "version": "3.8.19"
  }
 },
 "nbformat": 4,
 "nbformat_minor": 5
}
