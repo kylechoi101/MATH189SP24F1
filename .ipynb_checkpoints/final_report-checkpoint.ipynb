{
 "cells": [
  {
   "cell_type": "markdown",
   "id": "c75e3ef1",
   "metadata": {},
   "source": [
    "# Analyzing the relationship between education level and violent crime in California counties\n"
   ]
  },
  {
   "cell_type": "markdown",
   "id": "709a25e6",
   "metadata": {},
   "source": [
    "**Team Members**\n",
    "1. Kyle Choi\n",
    "2. Nithila Balaji\n",
    "3. Khalil Burrell"
   ]
  },
  {
   "cell_type": "markdown",
   "id": "4aa57f81",
   "metadata": {},
   "source": [
    "**Topic Overview**\n",
    "\n",
    "Our aim is to see if there is a correlation between education level and violent crime in California. In order to do this we will calculate high school drop out rate as a parameter of education among different counties along with violent crime in two specific years and observe the relation (if there is one). We will then calculate the average across both years and see if we are able to generalize a relationship.\n"
   ]
  },
  {
   "cell_type": "code",
   "execution_count": 1,
   "id": "123efd11",
   "metadata": {},
   "outputs": [],
   "source": [
    "# Imports\n",
    "\n",
    "import pandas as pd\n",
    "import numpy as np\n",
    "import statsmodels.api as sm"
   ]
  },
  {
   "cell_type": "markdown",
   "id": "b48d70d9",
   "metadata": {},
   "source": [
    "## Data Collection and Cleaning"
   ]
  },
  {
   "cell_type": "markdown",
   "id": "c036dc59",
   "metadata": {},
   "source": [
    "**Dataset 1: Violent Crime data**\n",
    "\n",
    "insert source and give basic info"
   ]
  },
  {
   "cell_type": "code",
   "execution_count": 2,
   "id": "31578b60",
   "metadata": {},
   "outputs": [],
   "source": [
    "## insert cleaned data and small explanation on steps taken"
   ]
  },
  {
   "cell_type": "code",
   "execution_count": 3,
   "id": "c1c80452",
   "metadata": {},
   "outputs": [
    {
     "data": {
      "text/html": [
       "<div>\n",
       "<style scoped>\n",
       "    .dataframe tbody tr th:only-of-type {\n",
       "        vertical-align: middle;\n",
       "    }\n",
       "\n",
       "    .dataframe tbody tr th {\n",
       "        vertical-align: top;\n",
       "    }\n",
       "\n",
       "    .dataframe thead th {\n",
       "        text-align: right;\n",
       "    }\n",
       "</style>\n",
       "<table border=\"1\" class=\"dataframe\">\n",
       "  <thead>\n",
       "    <tr style=\"text-align: right;\">\n",
       "      <th></th>\n",
       "      <th>County</th>\n",
       "      <th>2017</th>\n",
       "      <th>2022</th>\n",
       "    </tr>\n",
       "  </thead>\n",
       "  <tbody>\n",
       "    <tr>\n",
       "      <th>0</th>\n",
       "      <td>Alameda</td>\n",
       "      <td>9923.0</td>\n",
       "      <td>11125.0</td>\n",
       "    </tr>\n",
       "    <tr>\n",
       "      <th>1</th>\n",
       "      <td>Alpine</td>\n",
       "      <td>13.0</td>\n",
       "      <td>11.0</td>\n",
       "    </tr>\n",
       "    <tr>\n",
       "      <th>2</th>\n",
       "      <td>Amador</td>\n",
       "      <td>115.0</td>\n",
       "      <td>136.0</td>\n",
       "    </tr>\n",
       "    <tr>\n",
       "      <th>3</th>\n",
       "      <td>Butte</td>\n",
       "      <td>921.0</td>\n",
       "      <td>1291.0</td>\n",
       "    </tr>\n",
       "    <tr>\n",
       "      <th>4</th>\n",
       "      <td>Calaveras</td>\n",
       "      <td>208.0</td>\n",
       "      <td>257.0</td>\n",
       "    </tr>\n",
       "  </tbody>\n",
       "</table>\n",
       "</div>"
      ],
      "text/plain": [
       "      County    2017     2022\n",
       "0    Alameda  9923.0  11125.0\n",
       "1     Alpine    13.0     11.0\n",
       "2     Amador   115.0    136.0\n",
       "3      Butte   921.0   1291.0\n",
       "4  Calaveras   208.0    257.0"
      ]
     },
     "execution_count": 3,
     "metadata": {},
     "output_type": "execute_result"
    }
   ],
   "source": [
    "crime_data = pd.read_csv('violent_crime_data.csv')\n",
    "\n",
    "# Converting string value to integers\n",
    "\n",
    "crime_data['2017'] = crime_data['2017'].str.replace(',', '').astype(float)\n",
    "crime_data['2022'] = crime_data['2022'].str.replace(',', '').astype(float)\n",
    "\n",
    "\n",
    "crime_data['2017'] = pd.to_numeric(crime_data['2017'])\n",
    "crime_data['2022'] = pd.to_numeric(crime_data['2022'])\n",
    "\n",
    "crime_data.head()"
   ]
  },
  {
   "cell_type": "code",
   "execution_count": null,
   "id": "c381ace2",
   "metadata": {},
   "outputs": [],
   "source": []
  },
  {
   "cell_type": "markdown",
   "id": "a879fe94",
   "metadata": {},
   "source": [
    "**Dataset 2: Graduation data**\n",
    "\n",
    "insert source"
   ]
  },
  {
   "cell_type": "code",
   "execution_count": 4,
   "id": "0f5c6f3f",
   "metadata": {},
   "outputs": [],
   "source": [
    "# Load data\n",
    "\n",
    "grad_17 = pd.read_csv('2017gradrate.csv')\n",
    "grad_22 = pd.read_csv('2022gradrate.csv')"
   ]
  },
  {
   "cell_type": "code",
   "execution_count": 5,
   "id": "65224d25",
   "metadata": {},
   "outputs": [
    {
     "data": {
      "text/plain": [
       "Index(['AcademicYear', 'AggregateLevel', 'CountyCode', 'CountyName',\n",
       "       'DistrictName', 'SchoolName', 'CharterSchool', 'ReportingCategory',\n",
       "       'CohortStudents', 'Regular HS Diploma Graduates (Count)',\n",
       "       'Regular HS Diploma Graduates (Rate)', 'Met UC/CSU Grad Req's (Count)',\n",
       "       'Met UC/CSU Grad Req's (Rate)', 'Seal of Biliteracy (Count)',\n",
       "       'Seal of Biliteracy (Rate)', 'Golden State Seal Merit Diploma (Count)',\n",
       "       'Golden State Seal Merit Diploma (Rate', 'CHSPE Completer (Count)',\n",
       "       'CHSPE Completer (Rate)', 'Adult Ed. HS Diploma (Count)',\n",
       "       'Adult Ed. HS Diploma (Rate)', 'SPED Certificate (Count)',\n",
       "       'SPED Certificate (Rate)', 'GED Completer (Count)',\n",
       "       'GED Completer (Rate)', 'Other Transfer (Count)',\n",
       "       'Other Transfer (Rate)', 'Dropout (Count)', 'Dropout (Rate)',\n",
       "       'Still Enrolled (Count)', 'Still Enrolled (Rate)'],\n",
       "      dtype='object')"
      ]
     },
     "execution_count": 5,
     "metadata": {},
     "output_type": "execute_result"
    }
   ],
   "source": [
    "grad_17.columns"
   ]
  },
  {
   "cell_type": "code",
   "execution_count": 6,
   "id": "0d6d59e2",
   "metadata": {},
   "outputs": [],
   "source": [
    "# We will only select the necessary columns for our analysis\n",
    "\n",
    "# List of columns to keep\n",
    "columns_to_keep = ['CountyName', 'CohortStudents', 'Dropout (Count)']\n",
    "\n",
    "# Remove all columns except the specified ones\n",
    "grad_17 = grad_17[columns_to_keep]\n",
    "grad_22 = grad_22[columns_to_keep]"
   ]
  },
  {
   "cell_type": "code",
   "execution_count": 7,
   "id": "71c2530f",
   "metadata": {
    "scrolled": true
   },
   "outputs": [
    {
     "data": {
      "text/html": [
       "<div>\n",
       "<style scoped>\n",
       "    .dataframe tbody tr th:only-of-type {\n",
       "        vertical-align: middle;\n",
       "    }\n",
       "\n",
       "    .dataframe tbody tr th {\n",
       "        vertical-align: top;\n",
       "    }\n",
       "\n",
       "    .dataframe thead th {\n",
       "        text-align: right;\n",
       "    }\n",
       "</style>\n",
       "<table border=\"1\" class=\"dataframe\">\n",
       "  <thead>\n",
       "    <tr style=\"text-align: right;\">\n",
       "      <th></th>\n",
       "      <th>CountyName</th>\n",
       "      <th>CohortStudents</th>\n",
       "      <th>Dropout (Count)</th>\n",
       "    </tr>\n",
       "  </thead>\n",
       "  <tbody>\n",
       "    <tr>\n",
       "      <th>0</th>\n",
       "      <td>Alameda</td>\n",
       "      <td>153</td>\n",
       "      <td>50</td>\n",
       "    </tr>\n",
       "    <tr>\n",
       "      <th>1</th>\n",
       "      <td>Alameda</td>\n",
       "      <td>198</td>\n",
       "      <td>74</td>\n",
       "    </tr>\n",
       "    <tr>\n",
       "      <th>2</th>\n",
       "      <td>Alameda</td>\n",
       "      <td>*</td>\n",
       "      <td>*</td>\n",
       "    </tr>\n",
       "    <tr>\n",
       "      <th>3</th>\n",
       "      <td>Alameda</td>\n",
       "      <td>161</td>\n",
       "      <td>62</td>\n",
       "    </tr>\n",
       "    <tr>\n",
       "      <th>4</th>\n",
       "      <td>Alameda</td>\n",
       "      <td>*</td>\n",
       "      <td>*</td>\n",
       "    </tr>\n",
       "  </tbody>\n",
       "</table>\n",
       "</div>"
      ],
      "text/plain": [
       "  CountyName CohortStudents Dropout (Count)\n",
       "0    Alameda            153              50\n",
       "1    Alameda            198              74\n",
       "2    Alameda              *               *\n",
       "3    Alameda            161              62\n",
       "4    Alameda              *               *"
      ]
     },
     "execution_count": 7,
     "metadata": {},
     "output_type": "execute_result"
    }
   ],
   "source": [
    "grad_17.head()"
   ]
  },
  {
   "cell_type": "code",
   "execution_count": 8,
   "id": "f0f40626",
   "metadata": {},
   "outputs": [],
   "source": [
    "# Convert all data to integers and fill missing values with 0\n",
    "\n",
    "grad_17_sub = grad_17.copy()\n",
    "\n",
    "grad_17_sub = grad_17_sub.replace('*', np.nan).dropna()\n",
    "grad_17_sub['CohortStudents'] = pd.to_numeric(grad_17_sub['CohortStudents'])\n",
    "grad_17_sub['Dropout (Count)'] = pd.to_numeric(grad_17_sub['Dropout (Count)'])\n",
    "\n",
    "grad_22_sub = grad_22.copy()\n",
    "grad_22_sub = grad_22_sub.replace('*', np.nan).dropna()\n",
    "\n",
    "grad_22_sub['CohortStudents'] = pd.to_numeric(grad_22_sub['CohortStudents'])\n",
    "grad_22_sub['Dropout (Count)'] = pd.to_numeric(grad_22_sub['Dropout (Count)'])\n"
   ]
  },
  {
   "cell_type": "code",
   "execution_count": 9,
   "id": "87a22c20",
   "metadata": {},
   "outputs": [
    {
     "data": {
      "text/html": [
       "<div>\n",
       "<style scoped>\n",
       "    .dataframe tbody tr th:only-of-type {\n",
       "        vertical-align: middle;\n",
       "    }\n",
       "\n",
       "    .dataframe tbody tr th {\n",
       "        vertical-align: top;\n",
       "    }\n",
       "\n",
       "    .dataframe thead th {\n",
       "        text-align: right;\n",
       "    }\n",
       "</style>\n",
       "<table border=\"1\" class=\"dataframe\">\n",
       "  <thead>\n",
       "    <tr style=\"text-align: right;\">\n",
       "      <th></th>\n",
       "      <th>CountyName</th>\n",
       "      <th>CohortStudents</th>\n",
       "      <th>Dropout (Count)</th>\n",
       "    </tr>\n",
       "  </thead>\n",
       "  <tbody>\n",
       "    <tr>\n",
       "      <th>0</th>\n",
       "      <td>Alameda</td>\n",
       "      <td>153</td>\n",
       "      <td>50</td>\n",
       "    </tr>\n",
       "    <tr>\n",
       "      <th>1</th>\n",
       "      <td>Alameda</td>\n",
       "      <td>198</td>\n",
       "      <td>74</td>\n",
       "    </tr>\n",
       "    <tr>\n",
       "      <th>3</th>\n",
       "      <td>Alameda</td>\n",
       "      <td>161</td>\n",
       "      <td>62</td>\n",
       "    </tr>\n",
       "    <tr>\n",
       "      <th>6</th>\n",
       "      <td>Alameda</td>\n",
       "      <td>147</td>\n",
       "      <td>46</td>\n",
       "    </tr>\n",
       "    <tr>\n",
       "      <th>9</th>\n",
       "      <td>Alameda</td>\n",
       "      <td>13</td>\n",
       "      <td>4</td>\n",
       "    </tr>\n",
       "  </tbody>\n",
       "</table>\n",
       "</div>"
      ],
      "text/plain": [
       "  CountyName  CohortStudents  Dropout (Count)\n",
       "0    Alameda             153               50\n",
       "1    Alameda             198               74\n",
       "3    Alameda             161               62\n",
       "6    Alameda             147               46\n",
       "9    Alameda              13                4"
      ]
     },
     "execution_count": 9,
     "metadata": {},
     "output_type": "execute_result"
    }
   ],
   "source": [
    "grad_17_sub.head()"
   ]
  },
  {
   "cell_type": "code",
   "execution_count": 10,
   "id": "207c3239",
   "metadata": {},
   "outputs": [],
   "source": [
    "# Originally each high school was listed separately. We want to groupby county and have the total sums\n",
    "\n",
    "grad_17_sub=grad_17_sub.groupby('CountyName').sum()\n",
    "grad_22_sub=grad_22_sub.groupby('CountyName').sum()"
   ]
  },
  {
   "cell_type": "code",
   "execution_count": 11,
   "id": "68dd764e",
   "metadata": {},
   "outputs": [
    {
     "data": {
      "text/html": [
       "<div>\n",
       "<style scoped>\n",
       "    .dataframe tbody tr th:only-of-type {\n",
       "        vertical-align: middle;\n",
       "    }\n",
       "\n",
       "    .dataframe tbody tr th {\n",
       "        vertical-align: top;\n",
       "    }\n",
       "\n",
       "    .dataframe thead th {\n",
       "        text-align: right;\n",
       "    }\n",
       "</style>\n",
       "<table border=\"1\" class=\"dataframe\">\n",
       "  <thead>\n",
       "    <tr style=\"text-align: right;\">\n",
       "      <th></th>\n",
       "      <th>CohortStudents</th>\n",
       "      <th>Dropout (Count)</th>\n",
       "    </tr>\n",
       "    <tr>\n",
       "      <th>CountyName</th>\n",
       "      <th></th>\n",
       "      <th></th>\n",
       "    </tr>\n",
       "  </thead>\n",
       "  <tbody>\n",
       "    <tr>\n",
       "      <th>Alameda</th>\n",
       "      <td>506348</td>\n",
       "      <td>45814</td>\n",
       "    </tr>\n",
       "    <tr>\n",
       "      <th>Amador</th>\n",
       "      <td>9216</td>\n",
       "      <td>882</td>\n",
       "    </tr>\n",
       "    <tr>\n",
       "      <th>Butte</th>\n",
       "      <td>74011</td>\n",
       "      <td>6604</td>\n",
       "    </tr>\n",
       "    <tr>\n",
       "      <th>Calaveras</th>\n",
       "      <td>16327</td>\n",
       "      <td>767</td>\n",
       "    </tr>\n",
       "    <tr>\n",
       "      <th>Colusa</th>\n",
       "      <td>10482</td>\n",
       "      <td>302</td>\n",
       "    </tr>\n",
       "  </tbody>\n",
       "</table>\n",
       "</div>"
      ],
      "text/plain": [
       "            CohortStudents  Dropout (Count)\n",
       "CountyName                                 \n",
       "Alameda             506348            45814\n",
       "Amador                9216              882\n",
       "Butte                74011             6604\n",
       "Calaveras            16327              767\n",
       "Colusa               10482              302"
      ]
     },
     "execution_count": 11,
     "metadata": {},
     "output_type": "execute_result"
    }
   ],
   "source": [
    "grad_17_sub.head()"
   ]
  },
  {
   "cell_type": "code",
   "execution_count": 12,
   "id": "3e61ef2b",
   "metadata": {},
   "outputs": [
    {
     "data": {
      "text/html": [
       "<div>\n",
       "<style scoped>\n",
       "    .dataframe tbody tr th:only-of-type {\n",
       "        vertical-align: middle;\n",
       "    }\n",
       "\n",
       "    .dataframe tbody tr th {\n",
       "        vertical-align: top;\n",
       "    }\n",
       "\n",
       "    .dataframe thead th {\n",
       "        text-align: right;\n",
       "    }\n",
       "</style>\n",
       "<table border=\"1\" class=\"dataframe\">\n",
       "  <thead>\n",
       "    <tr style=\"text-align: right;\">\n",
       "      <th></th>\n",
       "      <th>CohortStudents</th>\n",
       "      <th>Dropout (Count)</th>\n",
       "    </tr>\n",
       "    <tr>\n",
       "      <th>CountyName</th>\n",
       "      <th></th>\n",
       "      <th></th>\n",
       "    </tr>\n",
       "  </thead>\n",
       "  <tbody>\n",
       "    <tr>\n",
       "      <th>Alameda</th>\n",
       "      <td>335763</td>\n",
       "      <td>27480</td>\n",
       "    </tr>\n",
       "    <tr>\n",
       "      <th>Amador</th>\n",
       "      <td>5827</td>\n",
       "      <td>250</td>\n",
       "    </tr>\n",
       "    <tr>\n",
       "      <th>Butte</th>\n",
       "      <td>48227</td>\n",
       "      <td>4118</td>\n",
       "    </tr>\n",
       "    <tr>\n",
       "      <th>Calaveras</th>\n",
       "      <td>7839</td>\n",
       "      <td>259</td>\n",
       "    </tr>\n",
       "    <tr>\n",
       "      <th>Colusa</th>\n",
       "      <td>7102</td>\n",
       "      <td>276</td>\n",
       "    </tr>\n",
       "  </tbody>\n",
       "</table>\n",
       "</div>"
      ],
      "text/plain": [
       "            CohortStudents  Dropout (Count)\n",
       "CountyName                                 \n",
       "Alameda             335763            27480\n",
       "Amador                5827              250\n",
       "Butte                48227             4118\n",
       "Calaveras             7839              259\n",
       "Colusa                7102              276"
      ]
     },
     "execution_count": 12,
     "metadata": {},
     "output_type": "execute_result"
    }
   ],
   "source": [
    "grad_22_sub.head()"
   ]
  },
  {
   "cell_type": "code",
   "execution_count": 13,
   "id": "2b1599e8",
   "metadata": {},
   "outputs": [
    {
     "data": {
      "text/html": [
       "<div>\n",
       "<style scoped>\n",
       "    .dataframe tbody tr th:only-of-type {\n",
       "        vertical-align: middle;\n",
       "    }\n",
       "\n",
       "    .dataframe tbody tr th {\n",
       "        vertical-align: top;\n",
       "    }\n",
       "\n",
       "    .dataframe thead th {\n",
       "        text-align: right;\n",
       "    }\n",
       "</style>\n",
       "<table border=\"1\" class=\"dataframe\">\n",
       "  <thead>\n",
       "    <tr style=\"text-align: right;\">\n",
       "      <th></th>\n",
       "      <th>County</th>\n",
       "      <th>Dropout_17</th>\n",
       "      <th>Dropout_22</th>\n",
       "    </tr>\n",
       "  </thead>\n",
       "  <tbody>\n",
       "    <tr>\n",
       "      <th>0</th>\n",
       "      <td>Alameda</td>\n",
       "      <td>9.047928</td>\n",
       "      <td>8.184344</td>\n",
       "    </tr>\n",
       "    <tr>\n",
       "      <th>1</th>\n",
       "      <td>Amador</td>\n",
       "      <td>9.570312</td>\n",
       "      <td>4.290372</td>\n",
       "    </tr>\n",
       "    <tr>\n",
       "      <th>2</th>\n",
       "      <td>Butte</td>\n",
       "      <td>8.922998</td>\n",
       "      <td>8.538785</td>\n",
       "    </tr>\n",
       "    <tr>\n",
       "      <th>3</th>\n",
       "      <td>Calaveras</td>\n",
       "      <td>4.697740</td>\n",
       "      <td>3.303993</td>\n",
       "    </tr>\n",
       "    <tr>\n",
       "      <th>4</th>\n",
       "      <td>Colusa</td>\n",
       "      <td>2.881130</td>\n",
       "      <td>3.886229</td>\n",
       "    </tr>\n",
       "  </tbody>\n",
       "</table>\n",
       "</div>"
      ],
      "text/plain": [
       "      County  Dropout_17  Dropout_22\n",
       "0    Alameda    9.047928    8.184344\n",
       "1     Amador    9.570312    4.290372\n",
       "2      Butte    8.922998    8.538785\n",
       "3  Calaveras    4.697740    3.303993\n",
       "4     Colusa    2.881130    3.886229"
      ]
     },
     "execution_count": 13,
     "metadata": {},
     "output_type": "execute_result"
    }
   ],
   "source": [
    "# Make single dataframe with rates from both\n",
    "\n",
    "grad_17_sub = grad_17_sub.reset_index()\n",
    "grad_22_sub = grad_22_sub.reset_index()\n",
    "\n",
    "# Calculate dropout rates\n",
    "\n",
    "grad_17_sub['Dropout_Rate_17'] = (grad_17_sub['Dropout (Count)'] / grad_17_sub['CohortStudents']) * 100\n",
    "grad_22_sub['Dropout_Rate_22'] = (grad_22_sub['Dropout (Count)'] / grad_22_sub['CohortStudents']) * 100\n",
    "\n",
    "df_merged = pd.merge(grad_17_sub[['CountyName', 'Dropout_Rate_17']], grad_22_sub[['CountyName', 'Dropout_Rate_22']], on='CountyName', how='outer')\n",
    "\n",
    "# Rename columns for clarity\n",
    "\n",
    "df_merged.rename(columns={'CountyName': 'County', 'Dropout_Rate_17': 'Dropout_17', 'Dropout_Rate_22': 'Dropout_22'}, inplace=True)\n",
    "df_merged.head()"
   ]
  },
  {
   "cell_type": "code",
   "execution_count": 30,
   "id": "ba858f61",
   "metadata": {},
   "outputs": [],
   "source": [
    "df_merged['Crime_Rate_2017'] = crime_data['2017'] /  pd.read_excel('Population2010-2020.xlsx', sheet_name=1)['Unnamed: 8'][1:-1].reset_index().drop(columns= ['index'])['Unnamed: 8'] *100\n",
    "df_merged['Crime_Rate_2022'] = crime_data['2022'] / pd.read_excel('Population2024.xlsx', sheet_name=1)['Unnamed: 3'][2:-1].reset_index().drop(columns= ['index'])['Unnamed: 3'] *100"
   ]
  },
  {
   "cell_type": "markdown",
   "id": "4a3d90c1",
   "metadata": {},
   "source": [
    "**Crime Rate per county based on their estimated population**\n",
    "\n",
    "source: https://dof.ca.gov/forecasting/demographics/estimates/"
   ]
  },
  {
   "cell_type": "code",
   "execution_count": 32,
   "id": "3857c82b",
   "metadata": {},
   "outputs": [
    {
     "data": {
      "text/html": [
       "<div>\n",
       "<style scoped>\n",
       "    .dataframe tbody tr th:only-of-type {\n",
       "        vertical-align: middle;\n",
       "    }\n",
       "\n",
       "    .dataframe tbody tr th {\n",
       "        vertical-align: top;\n",
       "    }\n",
       "\n",
       "    .dataframe thead th {\n",
       "        text-align: right;\n",
       "    }\n",
       "</style>\n",
       "<table border=\"1\" class=\"dataframe\">\n",
       "  <thead>\n",
       "    <tr style=\"text-align: right;\">\n",
       "      <th></th>\n",
       "      <th>County</th>\n",
       "      <th>Dropout_17</th>\n",
       "      <th>Dropout_22</th>\n",
       "      <th>Crime_Rate_2022</th>\n",
       "      <th>Crime_Rate_2017</th>\n",
       "    </tr>\n",
       "  </thead>\n",
       "  <tbody>\n",
       "    <tr>\n",
       "      <th>0</th>\n",
       "      <td>Alameda</td>\n",
       "      <td>9.047928</td>\n",
       "      <td>8.184344</td>\n",
       "      <td>0.676834</td>\n",
       "      <td>0.603478</td>\n",
       "    </tr>\n",
       "    <tr>\n",
       "      <th>1</th>\n",
       "      <td>Amador</td>\n",
       "      <td>9.570312</td>\n",
       "      <td>4.290372</td>\n",
       "      <td>0.92437</td>\n",
       "      <td>1.119724</td>\n",
       "    </tr>\n",
       "    <tr>\n",
       "      <th>2</th>\n",
       "      <td>Butte</td>\n",
       "      <td>8.922998</td>\n",
       "      <td>8.538785</td>\n",
       "      <td>0.339915</td>\n",
       "      <td>0.311653</td>\n",
       "    </tr>\n",
       "    <tr>\n",
       "      <th>3</th>\n",
       "      <td>Calaveras</td>\n",
       "      <td>4.697740</td>\n",
       "      <td>3.303993</td>\n",
       "      <td>0.62614</td>\n",
       "      <td>0.408484</td>\n",
       "    </tr>\n",
       "    <tr>\n",
       "      <th>4</th>\n",
       "      <td>Colusa</td>\n",
       "      <td>2.881130</td>\n",
       "      <td>3.886229</td>\n",
       "      <td>0.570845</td>\n",
       "      <td>0.460483</td>\n",
       "    </tr>\n",
       "  </tbody>\n",
       "</table>\n",
       "</div>"
      ],
      "text/plain": [
       "      County  Dropout_17  Dropout_22 Crime_Rate_2022 Crime_Rate_2017\n",
       "0    Alameda    9.047928    8.184344        0.676834        0.603478\n",
       "1     Amador    9.570312    4.290372         0.92437        1.119724\n",
       "2      Butte    8.922998    8.538785        0.339915        0.311653\n",
       "3  Calaveras    4.697740    3.303993         0.62614        0.408484\n",
       "4     Colusa    2.881130    3.886229        0.570845        0.460483"
      ]
     },
     "execution_count": 32,
     "metadata": {},
     "output_type": "execute_result"
    }
   ],
   "source": [
    "df_merged.head()"
   ]
  },
  {
   "cell_type": "markdown",
   "id": "8618d2d8",
   "metadata": {},
   "source": [
    "## Regression"
   ]
  },
  {
   "cell_type": "code",
   "execution_count": null,
   "id": "32255db9",
   "metadata": {},
   "outputs": [],
   "source": []
  },
  {
   "cell_type": "code",
   "execution_count": null,
   "id": "6444ccbc",
   "metadata": {},
   "outputs": [],
   "source": []
  },
  {
   "cell_type": "markdown",
   "id": "5c341548",
   "metadata": {},
   "source": []
  },
  {
   "cell_type": "markdown",
   "id": "5fde996a",
   "metadata": {},
   "source": [
    "**Hypotheses**\n",
    "\n",
    "Null Hypothesis (H$_0$): There is no relationship between violent crime rates and high school graduation rate across counties in California in the two selected years.\n",
    "\n",
    "Alternate Hypothesis (H$_a$): There is a positive relationship between violent crime and high school graduation rates across counties in California in the two selected years.\n"
   ]
  },
  {
   "cell_type": "code",
   "execution_count": 33,
   "id": "a5b9c007",
   "metadata": {},
   "outputs": [
    {
     "data": {
      "text/html": [
       "<div>\n",
       "<style scoped>\n",
       "    .dataframe tbody tr th:only-of-type {\n",
       "        vertical-align: middle;\n",
       "    }\n",
       "\n",
       "    .dataframe tbody tr th {\n",
       "        vertical-align: top;\n",
       "    }\n",
       "\n",
       "    .dataframe thead th {\n",
       "        text-align: right;\n",
       "    }\n",
       "</style>\n",
       "<table border=\"1\" class=\"dataframe\">\n",
       "  <thead>\n",
       "    <tr style=\"text-align: right;\">\n",
       "      <th></th>\n",
       "      <th>County</th>\n",
       "      <th>Dropout_17</th>\n",
       "      <th>Dropout_22</th>\n",
       "      <th>Crime_Rate_2022</th>\n",
       "      <th>Crime_Rate_2017</th>\n",
       "    </tr>\n",
       "  </thead>\n",
       "  <tbody>\n",
       "    <tr>\n",
       "      <th>0</th>\n",
       "      <td>Alameda</td>\n",
       "      <td>9.047928</td>\n",
       "      <td>8.184344</td>\n",
       "      <td>0.676834</td>\n",
       "      <td>0.603478</td>\n",
       "    </tr>\n",
       "    <tr>\n",
       "      <th>1</th>\n",
       "      <td>Amador</td>\n",
       "      <td>9.570312</td>\n",
       "      <td>4.290372</td>\n",
       "      <td>0.92437</td>\n",
       "      <td>1.119724</td>\n",
       "    </tr>\n",
       "    <tr>\n",
       "      <th>2</th>\n",
       "      <td>Butte</td>\n",
       "      <td>8.922998</td>\n",
       "      <td>8.538785</td>\n",
       "      <td>0.339915</td>\n",
       "      <td>0.311653</td>\n",
       "    </tr>\n",
       "    <tr>\n",
       "      <th>3</th>\n",
       "      <td>Calaveras</td>\n",
       "      <td>4.697740</td>\n",
       "      <td>3.303993</td>\n",
       "      <td>0.62614</td>\n",
       "      <td>0.408484</td>\n",
       "    </tr>\n",
       "    <tr>\n",
       "      <th>4</th>\n",
       "      <td>Colusa</td>\n",
       "      <td>2.881130</td>\n",
       "      <td>3.886229</td>\n",
       "      <td>0.570845</td>\n",
       "      <td>0.460483</td>\n",
       "    </tr>\n",
       "  </tbody>\n",
       "</table>\n",
       "</div>"
      ],
      "text/plain": [
       "      County  Dropout_17  Dropout_22 Crime_Rate_2022 Crime_Rate_2017\n",
       "0    Alameda    9.047928    8.184344        0.676834        0.603478\n",
       "1     Amador    9.570312    4.290372         0.92437        1.119724\n",
       "2      Butte    8.922998    8.538785        0.339915        0.311653\n",
       "3  Calaveras    4.697740    3.303993         0.62614        0.408484\n",
       "4     Colusa    2.881130    3.886229        0.570845        0.460483"
      ]
     },
     "execution_count": 33,
     "metadata": {},
     "output_type": "execute_result"
    }
   ],
   "source": [
    "# Combine data\n",
    "\n",
    "df_combined = df_merged.copy()\n",
    "df_combined.head()"
   ]
  },
  {
   "cell_type": "code",
   "execution_count": null,
   "id": "bd5ea3e4",
   "metadata": {},
   "outputs": [],
   "source": []
  },
  {
   "cell_type": "code",
   "execution_count": 55,
   "id": "18340dd1",
   "metadata": {},
   "outputs": [],
   "source": [
    "df_combined['Change_in_Dropout'] = (df_combined['Dropout_22'] - df_combined['Dropout_17']).astype(float)\n",
    "df_combined['Change_in_Crime'] = (df_combined['Crime_Rate_2022'] - df_combined['Crime_Rate_2017']).astype(float)\n"
   ]
  },
  {
   "cell_type": "code",
   "execution_count": 57,
   "id": "5fbab0a2",
   "metadata": {},
   "outputs": [
    {
     "data": {
      "text/plain": [
       "<AxesSubplot:>"
      ]
     },
     "execution_count": 57,
     "metadata": {},
     "output_type": "execute_result"
    },
    {
     "data": {
      "image/png": "[encoded data removed]",
      "text/plain": [
       "<Figure size 432x288 with 1 Axes>"
      ]
     },
     "metadata": {
      "needs_background": "light"
     },
     "output_type": "display_data"
    }
   ],
   "source": [
    "df_combined['Change_in_Crime'].hist()"
   ]
  },
  {
   "cell_type": "code",
   "execution_count": 58,
   "id": "8d53eabf",
   "metadata": {
    "scrolled": true
   },
   "outputs": [
    {
     "data": {
      "text/plain": [
       "<AxesSubplot:>"
      ]
     },
     "execution_count": 58,
     "metadata": {},
     "output_type": "execute_result"
    },
    {
     "data": {
      "image/png": "[encoded data removed]",
      "text/plain": [
       "<Figure size 432x288 with 1 Axes>"
      ]
     },
     "metadata": {
      "needs_background": "light"
     },
     "output_type": "display_data"
    }
   ],
   "source": [
    "df_combined['Change_in_Dropout'].hist()"
   ]
  },
  {
   "cell_type": "markdown",
   "id": "037b6f5f",
   "metadata": {},
   "source": [
    "Since the distribution is skewed, we will employ log to make it normal"
   ]
  },
  {
   "cell_type": "code",
   "execution_count": 53,
   "id": "c06edd5e",
   "metadata": {},
   "outputs": [
    {
     "data": {
      "text/plain": [
       "<AxesSubplot:>"
      ]
     },
     "execution_count": 53,
     "metadata": {},
     "output_type": "execute_result"
    },
    {
     "data": {
      "image/png": "[encoded data removed]",
      "text/plain": [
       "<Figure size 432x288 with 1 Axes>"
      ]
     },
     "metadata": {
      "needs_background": "light"
     },
     "output_type": "display_data"
    }
   ],
   "source": [
    "df_combined['Change_in_Dropout'] = np.log(df_combined['Change_in_Dropout'] +1)\n",
    "df_combined['Change_in_Dropout'].hist()"
   ]
  },
  {
   "cell_type": "code",
   "execution_count": 59,
   "id": "5f9f0caf",
   "metadata": {
    "scrolled": true
   },
   "outputs": [
    {
     "data": {
      "text/html": [
       "<table class=\"simpletable\">\n",
       "<caption>OLS Regression Results</caption>\n",
       "<tr>\n",
       "  <th>Dep. Variable:</th>     <td>Change_in_Crime</td> <th>  R-squared:         </th> <td>   0.021</td>\n",
       "</tr>\n",
       "<tr>\n",
       "  <th>Model:</th>                   <td>OLS</td>       <th>  Adj. R-squared:    </th> <td>   0.003</td>\n",
       "</tr>\n",
       "<tr>\n",
       "  <th>Method:</th>             <td>Least Squares</td>  <th>  F-statistic:       </th> <td>   1.184</td>\n",
       "</tr>\n",
       "<tr>\n",
       "  <th>Date:</th>             <td>Sat, 08 Jun 2024</td> <th>  Prob (F-statistic):</th>  <td> 0.281</td> \n",
       "</tr>\n",
       "<tr>\n",
       "  <th>Time:</th>                 <td>14:47:19</td>     <th>  Log-Likelihood:    </th> <td>  12.810</td>\n",
       "</tr>\n",
       "<tr>\n",
       "  <th>No. Observations:</th>      <td>    57</td>      <th>  AIC:               </th> <td>  -21.62</td>\n",
       "</tr>\n",
       "<tr>\n",
       "  <th>Df Residuals:</th>          <td>    55</td>      <th>  BIC:               </th> <td>  -17.53</td>\n",
       "</tr>\n",
       "<tr>\n",
       "  <th>Df Model:</th>              <td>     1</td>      <th>                     </th>     <td> </td>   \n",
       "</tr>\n",
       "<tr>\n",
       "  <th>Covariance Type:</th>      <td>nonrobust</td>    <th>                     </th>     <td> </td>   \n",
       "</tr>\n",
       "</table>\n",
       "<table class=\"simpletable\">\n",
       "<tr>\n",
       "          <td></td>             <th>coef</th>     <th>std err</th>      <th>t</th>      <th>P>|t|</th>  <th>[0.025</th>    <th>0.975]</th>  \n",
       "</tr>\n",
       "<tr>\n",
       "  <th>const</th>             <td>    0.0149</td> <td>    0.026</td> <td>    0.571</td> <td> 0.571</td> <td>   -0.037</td> <td>    0.067</td>\n",
       "</tr>\n",
       "<tr>\n",
       "  <th>Change_in_Dropout</th> <td>   -0.0046</td> <td>    0.004</td> <td>   -1.088</td> <td> 0.281</td> <td>   -0.013</td> <td>    0.004</td>\n",
       "</tr>\n",
       "</table>\n",
       "<table class=\"simpletable\">\n",
       "<tr>\n",
       "  <th>Omnibus:</th>       <td>15.665</td> <th>  Durbin-Watson:     </th> <td>   2.140</td>\n",
       "</tr>\n",
       "<tr>\n",
       "  <th>Prob(Omnibus):</th> <td> 0.000</td> <th>  Jarque-Bera (JB):  </th> <td>  69.943</td>\n",
       "</tr>\n",
       "<tr>\n",
       "  <th>Skew:</th>          <td> 0.258</td> <th>  Prob(JB):          </th> <td>6.49e-16</td>\n",
       "</tr>\n",
       "<tr>\n",
       "  <th>Kurtosis:</th>      <td> 8.402</td> <th>  Cond. No.          </th> <td>    6.25</td>\n",
       "</tr>\n",
       "</table><br/><br/>Notes:<br/>[1] Standard Errors assume that the covariance matrix of the errors is correctly specified."
      ],
      "text/plain": [
       "<class 'statsmodels.iolib.summary.Summary'>\n",
       "\"\"\"\n",
       "                            OLS Regression Results                            \n",
       "==============================================================================\n",
       "Dep. Variable:        Change_in_Crime   R-squared:                       0.021\n",
       "Model:                            OLS   Adj. R-squared:                  0.003\n",
       "Method:                 Least Squares   F-statistic:                     1.184\n",
       "Date:                Sat, 08 Jun 2024   Prob (F-statistic):              0.281\n",
       "Time:                        14:47:19   Log-Likelihood:                 12.810\n",
       "No. Observations:                  57   AIC:                            -21.62\n",
       "Df Residuals:                      55   BIC:                            -17.53\n",
       "Df Model:                           1                                         \n",
       "Covariance Type:            nonrobust                                         \n",
       "=====================================================================================\n",
       "                        coef    std err          t      P>|t|      [0.025      0.975]\n",
       "-------------------------------------------------------------------------------------\n",
       "const                 0.0149      0.026      0.571      0.571      -0.037       0.067\n",
       "Change_in_Dropout    -0.0046      0.004     -1.088      0.281      -0.013       0.004\n",
       "==============================================================================\n",
       "Omnibus:                       15.665   Durbin-Watson:                   2.140\n",
       "Prob(Omnibus):                  0.000   Jarque-Bera (JB):               69.943\n",
       "Skew:                           0.258   Prob(JB):                     6.49e-16\n",
       "Kurtosis:                       8.402   Cond. No.                         6.25\n",
       "==============================================================================\n",
       "\n",
       "Notes:\n",
       "[1] Standard Errors assume that the covariance matrix of the errors is correctly specified.\n",
       "\"\"\""
      ]
     },
     "execution_count": 59,
     "metadata": {},
     "output_type": "execute_result"
    }
   ],
   "source": [
    "X = sm.add_constant(df_combined['Change_in_Dropout'])\n",
    "y = df_combined['Change_in_Crime']\n",
    "model = sm.OLS(y, X).fit()\n",
    "model.summary()"
   ]
  },
  {
   "cell_type": "markdown",
   "id": "77578df7",
   "metadata": {},
   "source": [
    "## Analysis"
   ]
  },
  {
   "cell_type": "code",
   "execution_count": null,
   "id": "d18cccb6",
   "metadata": {},
   "outputs": [],
   "source": []
  },
  {
   "cell_type": "code",
   "execution_count": null,
   "id": "15da736c",
   "metadata": {},
   "outputs": [],
   "source": []
  },
  {
   "cell_type": "code",
   "execution_count": null,
   "id": "462a39c1",
   "metadata": {},
   "outputs": [],
   "source": []
  },
  {
   "cell_type": "markdown",
   "id": "cb435c6c",
   "metadata": {},
   "source": [
    "## Conclusion"
   ]
  },
  {
   "cell_type": "code",
   "execution_count": null,
   "id": "cdf5ea31",
   "metadata": {},
   "outputs": [],
   "source": []
  },
  {
   "cell_type": "code",
   "execution_count": null,
   "id": "7c7a2f1b",
   "metadata": {},
   "outputs": [],
   "source": []
  }
 ],
 "metadata": {
  "kernelspec": {
   "display_name": "Python 3",
   "language": "python",
   "name": "python3"
  },
  "language_info": {
   "codemirror_mode": {
    "name": "ipython",
    "version": 3
   },
   "file_extension": ".py",
   "mimetype": "text/x-python",
   "name": "python",
   "nbconvert_exporter": "python",
   "pygments_lexer": "ipython3",
   "version": "3.7.8rc1"
  }
 },
 "nbformat": 4,
 "nbformat_minor": 5
}
