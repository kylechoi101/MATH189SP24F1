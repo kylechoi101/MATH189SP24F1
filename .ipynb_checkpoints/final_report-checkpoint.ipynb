{
 "cells": [
  {
   "cell_type": "markdown",
   "id": "c75e3ef1",
   "metadata": {},
   "source": [
    "# Analyzing the relationship between education level and violent crime in California counties\n"
   ]
  },
  {
   "cell_type": "markdown",
   "id": "709a25e6",
   "metadata": {},
   "source": [
    "**Team Members**\n",
    "1. Kyle Choi\n",
    "2. Nithila Balaji\n",
    "3. Khalil Burrell"
   ]
  },
  {
   "cell_type": "markdown",
   "id": "4aa57f81",
   "metadata": {},
   "source": [
    "**Topic Overview**\n",
    "\n",
    "Our aim is to see if there is a correlation between education level and violent crime in California. In order to do this we will calculate high school graduation rate as a parameter of education among different counties along with violent crime in two specific years and observe the relation (if there is one). We will then calculate the average across both years and see if we are able to generalize a relationship.\n"
   ]
  },
  {
   "cell_type": "markdown",
   "id": "b48d70d9",
   "metadata": {},
   "source": [
    "## Data Collection and Cleaning"
   ]
  },
  {
   "cell_type": "markdown",
   "id": "c036dc59",
   "metadata": {},
   "source": [
    "**Dataset 1: Violent Crime data**\n",
    "\n",
    "insert source"
   ]
  },
  {
   "cell_type": "code",
   "execution_count": 1,
   "id": "31578b60",
   "metadata": {},
   "outputs": [],
   "source": [
    "## insert cleaned data and small explanation on steps taken"
   ]
  },
  {
   "cell_type": "markdown",
   "id": "a879fe94",
   "metadata": {},
   "source": [
    "**Dataset 2: Graduation data**\n",
    "\n",
    "insert source"
   ]
  },
  {
   "cell_type": "code",
   "execution_count": null,
   "id": "de92480a",
   "metadata": {},
   "outputs": [],
   "source": [
    "## insert cleaned data and small explanation on steps taken"
   ]
  },
  {
   "cell_type": "code",
   "execution_count": null,
   "id": "0f5c6f3f",
   "metadata": {},
   "outputs": [],
   "source": []
  },
  {
   "cell_type": "markdown",
   "id": "8618d2d8",
   "metadata": {},
   "source": [
    "## Regression"
   ]
  },
  {
   "cell_type": "markdown",
   "id": "5c341548",
   "metadata": {},
   "source": [
    "can remove, only for reference!\n",
    "\n",
    "We will employ a regression model for each county’s graduation rate as independent variables and the violent crime rate as dependent variables. Then compare with the same model on a different timeframe to extract if there was a meaningful impact because of the high school graduation rate."
   ]
  },
  {
   "cell_type": "markdown",
   "id": "5fde996a",
   "metadata": {},
   "source": [
    "**Hypotheses**\n",
    "\n",
    "Null Hypothesis (H$_0$): There is no relationship between violent crime rates and high school graduation rate across counties in California in the two selected years.\n",
    "\n",
    "Alternate Hypothesis (H$_a$): There is a negative relationship between violent crime and high school graduation rates across counties in California in the two selected years. That is\n"
   ]
  },
  {
   "cell_type": "code",
   "execution_count": null,
   "id": "a5b9c007",
   "metadata": {},
   "outputs": [],
   "source": []
  },
  {
   "cell_type": "code",
   "execution_count": null,
   "id": "18340dd1",
   "metadata": {},
   "outputs": [],
   "source": []
  },
  {
   "cell_type": "code",
   "execution_count": null,
   "id": "c06edd5e",
   "metadata": {},
   "outputs": [],
   "source": []
  },
  {
   "cell_type": "code",
   "execution_count": null,
   "id": "a1e33971",
   "metadata": {},
   "outputs": [],
   "source": []
  },
  {
   "cell_type": "markdown",
   "id": "77578df7",
   "metadata": {},
   "source": [
    "## Analysis"
   ]
  },
  {
   "cell_type": "code",
   "execution_count": null,
   "id": "d18cccb6",
   "metadata": {},
   "outputs": [],
   "source": []
  },
  {
   "cell_type": "code",
   "execution_count": null,
   "id": "15da736c",
   "metadata": {},
   "outputs": [],
   "source": []
  },
  {
   "cell_type": "code",
   "execution_count": null,
   "id": "462a39c1",
   "metadata": {},
   "outputs": [],
   "source": []
  },
  {
   "cell_type": "markdown",
   "id": "cb435c6c",
   "metadata": {},
   "source": [
    "## Conclusion"
   ]
  },
  {
   "cell_type": "code",
   "execution_count": null,
   "id": "cdf5ea31",
   "metadata": {},
   "outputs": [],
   "source": []
  },
  {
   "cell_type": "code",
   "execution_count": null,
   "id": "7c7a2f1b",
   "metadata": {},
   "outputs": [],
   "source": []
  }
 ],
 "metadata": {
  "kernelspec": {
   "display_name": "Python 3 (ipykernel)",
   "language": "python",
   "name": "python3"
  },
  "language_info": {
   "codemirror_mode": {
    "name": "ipython",
    "version": 3
   },
   "file_extension": ".py",
   "mimetype": "text/x-python",
   "name": "python",
   "nbconvert_exporter": "python",
   "pygments_lexer": "ipython3",
   "version": "3.8.19"
  }
 },
 "nbformat": 4,
 "nbformat_minor": 5
}
