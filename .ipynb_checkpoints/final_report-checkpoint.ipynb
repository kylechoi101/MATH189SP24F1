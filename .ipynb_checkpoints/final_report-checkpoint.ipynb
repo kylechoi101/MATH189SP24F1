{
 "cells": [
  {
   "cell_type": "markdown",
   "id": "c75e3ef1",
   "metadata": {},
   "source": [
    "# Analyzing the relationship between education level and violent crime in California counties\n"
   ]
  },
  {
   "cell_type": "markdown",
   "id": "709a25e6",
   "metadata": {},
   "source": [
    "**Team Members**\n",
    "1. Kyle Choi\n",
    "2. Nithila Balaji\n",
    "3. Khalil Burrell"
   ]
  },
  {
   "cell_type": "markdown",
   "id": "4aa57f81",
   "metadata": {},
   "source": [
    "**Topic Overview**\n",
    "\n",
    "Our aim is to see if there is a correlation between education level and violent crime in California. In order to do this we will calculate high school drop out rate as a parameter of education among different counties along with violent crime in two specific years and observe the relation (if there is one). We will then calculate the average across both years and see if we are able to generalize a relationship.\n"
   ]
  },
  {
   "cell_type": "code",
   "execution_count": 1,
   "id": "123efd11",
   "metadata": {},
   "outputs": [],
   "source": [
    "# Imports\n",
    "\n",
    "import pandas as pd\n",
    "import numpy as np\n",
    "import statsmodels.api as sm"
   ]
  },
  {
   "cell_type": "markdown",
   "id": "b48d70d9",
   "metadata": {},
   "source": [
    "## Data Collection and Cleaning"
   ]
  },
  {
   "cell_type": "markdown",
   "id": "c036dc59",
   "metadata": {},
   "source": [
    "**Dataset 1: Violent Crime data**\n",
    "\n",
    "insert source and give basic info"
   ]
  },
  {
   "cell_type": "code",
   "execution_count": 2,
   "id": "31578b60",
   "metadata": {},
   "outputs": [],
   "source": [
    "## insert cleaned data and small explanation on steps taken"
   ]
  },
  {
   "cell_type": "code",
   "execution_count": 3,
   "id": "c1c80452",
   "metadata": {},
   "outputs": [
    {
     "data": {
      "text/html": [
       "<div>\n",
       "<style scoped>\n",
       "    .dataframe tbody tr th:only-of-type {\n",
       "        vertical-align: middle;\n",
       "    }\n",
       "\n",
       "    .dataframe tbody tr th {\n",
       "        vertical-align: top;\n",
       "    }\n",
       "\n",
       "    .dataframe thead th {\n",
       "        text-align: right;\n",
       "    }\n",
       "</style>\n",
       "<table border=\"1\" class=\"dataframe\">\n",
       "  <thead>\n",
       "    <tr style=\"text-align: right;\">\n",
       "      <th></th>\n",
       "      <th>County</th>\n",
       "      <th>2017</th>\n",
       "      <th>2022</th>\n",
       "    </tr>\n",
       "  </thead>\n",
       "  <tbody>\n",
       "    <tr>\n",
       "      <th>0</th>\n",
       "      <td>Alameda</td>\n",
       "      <td>9923.0</td>\n",
       "      <td>11125.0</td>\n",
       "    </tr>\n",
       "    <tr>\n",
       "      <th>1</th>\n",
       "      <td>Alpine</td>\n",
       "      <td>13.0</td>\n",
       "      <td>11.0</td>\n",
       "    </tr>\n",
       "    <tr>\n",
       "      <th>2</th>\n",
       "      <td>Amador</td>\n",
       "      <td>115.0</td>\n",
       "      <td>136.0</td>\n",
       "    </tr>\n",
       "    <tr>\n",
       "      <th>3</th>\n",
       "      <td>Butte</td>\n",
       "      <td>921.0</td>\n",
       "      <td>1291.0</td>\n",
       "    </tr>\n",
       "    <tr>\n",
       "      <th>4</th>\n",
       "      <td>Calaveras</td>\n",
       "      <td>208.0</td>\n",
       "      <td>257.0</td>\n",
       "    </tr>\n",
       "  </tbody>\n",
       "</table>\n",
       "</div>"
      ],
      "text/plain": [
       "      County    2017     2022\n",
       "0    Alameda  9923.0  11125.0\n",
       "1     Alpine    13.0     11.0\n",
       "2     Amador   115.0    136.0\n",
       "3      Butte   921.0   1291.0\n",
       "4  Calaveras   208.0    257.0"
      ]
     },
     "execution_count": 3,
     "metadata": {},
     "output_type": "execute_result"
    }
   ],
   "source": [
    "crime_data = pd.read_csv('violent_crime_data.csv')\n",
    "\n",
    "# Converting string value to integers\n",
    "\n",
    "crime_data['2017'] = crime_data['2017'].str.replace(',', '').astype(float)\n",
    "crime_data['2022'] = crime_data['2022'].str.replace(',', '').astype(float)\n",
    "\n",
    "\n",
    "crime_data['2017'] = pd.to_numeric(crime_data['2017'])\n",
    "crime_data['2022'] = pd.to_numeric(crime_data['2022'])\n",
    "\n",
    "crime_data.head()"
   ]
  },
  {
   "cell_type": "code",
   "execution_count": null,
   "id": "c381ace2",
   "metadata": {},
   "outputs": [],
   "source": []
  },
  {
   "cell_type": "markdown",
   "id": "a879fe94",
   "metadata": {},
   "source": [
    "**Dataset 2: Graduation data**\n",
    "\n",
    "insert source"
   ]
  },
  {
   "cell_type": "code",
   "execution_count": 4,
   "id": "0f5c6f3f",
   "metadata": {},
   "outputs": [],
   "source": [
    "# Load data\n",
    "\n",
    "grad_17 = pd.read_csv('2017gradrate.csv')\n",
    "grad_22 = pd.read_csv('2022gradrate.csv')"
   ]
  },
  {
   "cell_type": "code",
   "execution_count": 5,
   "id": "65224d25",
   "metadata": {},
   "outputs": [
    {
     "data": {
      "text/plain": [
       "Index(['AcademicYear', 'AggregateLevel', 'CountyCode', 'CountyName',\n",
       "       'DistrictName', 'SchoolName', 'CharterSchool', 'ReportingCategory',\n",
       "       'CohortStudents', 'Regular HS Diploma Graduates (Count)',\n",
       "       'Regular HS Diploma Graduates (Rate)', 'Met UC/CSU Grad Req's (Count)',\n",
       "       'Met UC/CSU Grad Req's (Rate)', 'Seal of Biliteracy (Count)',\n",
       "       'Seal of Biliteracy (Rate)', 'Golden State Seal Merit Diploma (Count)',\n",
       "       'Golden State Seal Merit Diploma (Rate', 'CHSPE Completer (Count)',\n",
       "       'CHSPE Completer (Rate)', 'Adult Ed. HS Diploma (Count)',\n",
       "       'Adult Ed. HS Diploma (Rate)', 'SPED Certificate (Count)',\n",
       "       'SPED Certificate (Rate)', 'GED Completer (Count)',\n",
       "       'GED Completer (Rate)', 'Other Transfer (Count)',\n",
       "       'Other Transfer (Rate)', 'Dropout (Count)', 'Dropout (Rate)',\n",
       "       'Still Enrolled (Count)', 'Still Enrolled (Rate)'],\n",
       "      dtype='object')"
      ]
     },
     "execution_count": 5,
     "metadata": {},
     "output_type": "execute_result"
    }
   ],
   "source": [
    "grad_17.columns"
   ]
  },
  {
   "cell_type": "code",
   "execution_count": 6,
   "id": "0d6d59e2",
   "metadata": {},
   "outputs": [],
   "source": [
    "# We will only select the necessary columns for our analysis\n",
    "\n",
    "# List of columns to keep\n",
    "columns_to_keep = ['CountyName', 'CohortStudents', 'Dropout (Count)']\n",
    "\n",
    "# Remove all columns except the specified ones\n",
    "grad_17 = grad_17[columns_to_keep]\n",
    "grad_22 = grad_22[columns_to_keep]"
   ]
  },
  {
   "cell_type": "code",
   "execution_count": 7,
   "id": "71c2530f",
   "metadata": {
    "scrolled": true
   },
   "outputs": [
    {
     "data": {
      "text/html": [
       "<div>\n",
       "<style scoped>\n",
       "    .dataframe tbody tr th:only-of-type {\n",
       "        vertical-align: middle;\n",
       "    }\n",
       "\n",
       "    .dataframe tbody tr th {\n",
       "        vertical-align: top;\n",
       "    }\n",
       "\n",
       "    .dataframe thead th {\n",
       "        text-align: right;\n",
       "    }\n",
       "</style>\n",
       "<table border=\"1\" class=\"dataframe\">\n",
       "  <thead>\n",
       "    <tr style=\"text-align: right;\">\n",
       "      <th></th>\n",
       "      <th>CountyName</th>\n",
       "      <th>CohortStudents</th>\n",
       "      <th>Dropout (Count)</th>\n",
       "    </tr>\n",
       "  </thead>\n",
       "  <tbody>\n",
       "    <tr>\n",
       "      <th>0</th>\n",
       "      <td>Alameda</td>\n",
       "      <td>153</td>\n",
       "      <td>50</td>\n",
       "    </tr>\n",
       "    <tr>\n",
       "      <th>1</th>\n",
       "      <td>Alameda</td>\n",
       "      <td>198</td>\n",
       "      <td>74</td>\n",
       "    </tr>\n",
       "    <tr>\n",
       "      <th>2</th>\n",
       "      <td>Alameda</td>\n",
       "      <td>*</td>\n",
       "      <td>*</td>\n",
       "    </tr>\n",
       "    <tr>\n",
       "      <th>3</th>\n",
       "      <td>Alameda</td>\n",
       "      <td>161</td>\n",
       "      <td>62</td>\n",
       "    </tr>\n",
       "    <tr>\n",
       "      <th>4</th>\n",
       "      <td>Alameda</td>\n",
       "      <td>*</td>\n",
       "      <td>*</td>\n",
       "    </tr>\n",
       "  </tbody>\n",
       "</table>\n",
       "</div>"
      ],
      "text/plain": [
       "  CountyName CohortStudents Dropout (Count)\n",
       "0    Alameda            153              50\n",
       "1    Alameda            198              74\n",
       "2    Alameda              *               *\n",
       "3    Alameda            161              62\n",
       "4    Alameda              *               *"
      ]
     },
     "execution_count": 7,
     "metadata": {},
     "output_type": "execute_result"
    }
   ],
   "source": [
    "grad_17.head()"
   ]
  },
  {
   "cell_type": "code",
   "execution_count": 8,
   "id": "f0f40626",
   "metadata": {},
   "outputs": [
    {
     "name": "stderr",
     "output_type": "stream",
     "text": [
      "/var/folders/xm/6y_bcpfj7wd89bh3_c027xv40000gn/T/ipykernel_12942/4121698738.py:5: FutureWarning: The default value of regex will change from True to False in a future version. In addition, single character regular expressions will *not* be treated as literal strings when regex=True.\n",
      "  grad_17_sub['CohortStudents'] = grad_17_sub['CohortStudents'].str.replace('*', '')\n",
      "/var/folders/xm/6y_bcpfj7wd89bh3_c027xv40000gn/T/ipykernel_12942/4121698738.py:6: FutureWarning: The default value of regex will change from True to False in a future version. In addition, single character regular expressions will *not* be treated as literal strings when regex=True.\n",
      "  grad_17_sub['Dropout (Count)'] = grad_17_sub['Dropout (Count)'].str.replace('*', '')\n",
      "/var/folders/xm/6y_bcpfj7wd89bh3_c027xv40000gn/T/ipykernel_12942/4121698738.py:12: FutureWarning: The default value of regex will change from True to False in a future version. In addition, single character regular expressions will *not* be treated as literal strings when regex=True.\n",
      "  grad_22_sub['CohortStudents'] = grad_22_sub['CohortStudents'].str.replace('*', '')#.astype(float)\n",
      "/var/folders/xm/6y_bcpfj7wd89bh3_c027xv40000gn/T/ipykernel_12942/4121698738.py:13: FutureWarning: The default value of regex will change from True to False in a future version. In addition, single character regular expressions will *not* be treated as literal strings when regex=True.\n",
      "  grad_22_sub['Dropout (Count)'] = grad_22_sub['Dropout (Count)'].str.replace('*', '')#.astype(float)\n"
     ]
    }
   ],
   "source": [
    "# Convert all data to integers and fill missing values with 0\n",
    "\n",
    "grad_17_sub = grad_17.copy()\n",
    "\n",
    "grad_17_sub['CohortStudents'] = grad_17_sub['CohortStudents'].str.replace('*', '')\n",
    "grad_17_sub['Dropout (Count)'] = grad_17_sub['Dropout (Count)'].str.replace('*', '')\n",
    "\n",
    "grad_17_sub['CohortStudents'] = pd.to_numeric(grad_17_sub['CohortStudents'])\n",
    "grad_17_sub['Dropout (Count)'] = pd.to_numeric(grad_17_sub['Dropout (Count)'])\n",
    "\n",
    "grad_22_sub = grad_22.copy()\n",
    "grad_22_sub['CohortStudents'] = grad_22_sub['CohortStudents'].str.replace('*', '')\n",
    "grad_22_sub['Dropout (Count)'] = grad_22_sub['Dropout (Count)'].str.replace('*', '')\n",
    "\n",
    "grad_22_sub['CohortStudents'] = pd.to_numeric(grad_22_sub['CohortStudents'])\n",
    "grad_22_sub['Dropout (Count)'] = pd.to_numeric(grad_22_sub['Dropout (Count)'])\n"
   ]
  },
  {
   "cell_type": "code",
   "execution_count": 9,
   "id": "87a22c20",
   "metadata": {},
   "outputs": [
    {
     "data": {
      "text/html": [
       "<div>\n",
       "<style scoped>\n",
       "    .dataframe tbody tr th:only-of-type {\n",
       "        vertical-align: middle;\n",
       "    }\n",
       "\n",
       "    .dataframe tbody tr th {\n",
       "        vertical-align: top;\n",
       "    }\n",
       "\n",
       "    .dataframe thead th {\n",
       "        text-align: right;\n",
       "    }\n",
       "</style>\n",
       "<table border=\"1\" class=\"dataframe\">\n",
       "  <thead>\n",
       "    <tr style=\"text-align: right;\">\n",
       "      <th></th>\n",
       "      <th>CountyName</th>\n",
       "      <th>CohortStudents</th>\n",
       "      <th>Dropout (Count)</th>\n",
       "    </tr>\n",
       "  </thead>\n",
       "  <tbody>\n",
       "    <tr>\n",
       "      <th>0</th>\n",
       "      <td>Alameda</td>\n",
       "      <td>153.0</td>\n",
       "      <td>50.0</td>\n",
       "    </tr>\n",
       "    <tr>\n",
       "      <th>1</th>\n",
       "      <td>Alameda</td>\n",
       "      <td>198.0</td>\n",
       "      <td>74.0</td>\n",
       "    </tr>\n",
       "    <tr>\n",
       "      <th>2</th>\n",
       "      <td>Alameda</td>\n",
       "      <td>NaN</td>\n",
       "      <td>NaN</td>\n",
       "    </tr>\n",
       "    <tr>\n",
       "      <th>3</th>\n",
       "      <td>Alameda</td>\n",
       "      <td>161.0</td>\n",
       "      <td>62.0</td>\n",
       "    </tr>\n",
       "    <tr>\n",
       "      <th>4</th>\n",
       "      <td>Alameda</td>\n",
       "      <td>NaN</td>\n",
       "      <td>NaN</td>\n",
       "    </tr>\n",
       "  </tbody>\n",
       "</table>\n",
       "</div>"
      ],
      "text/plain": [
       "  CountyName  CohortStudents  Dropout (Count)\n",
       "0    Alameda           153.0             50.0\n",
       "1    Alameda           198.0             74.0\n",
       "2    Alameda             NaN              NaN\n",
       "3    Alameda           161.0             62.0\n",
       "4    Alameda             NaN              NaN"
      ]
     },
     "execution_count": 9,
     "metadata": {},
     "output_type": "execute_result"
    }
   ],
   "source": [
    "grad_17_sub.head()"
   ]
  },
  {
   "cell_type": "code",
   "execution_count": 10,
   "id": "207c3239",
   "metadata": {},
   "outputs": [],
   "source": [
    "# Originally each high school was listed separately. We want to groupby county and have the total sums\n",
    "\n",
    "grad_17_sub=grad_17_sub.groupby('CountyName').sum()\n",
    "grad_22_sub=grad_22_sub.groupby('CountyName').sum()"
   ]
  },
  {
   "cell_type": "code",
   "execution_count": 11,
   "id": "68dd764e",
   "metadata": {},
   "outputs": [
    {
     "data": {
      "text/html": [
       "<div>\n",
       "<style scoped>\n",
       "    .dataframe tbody tr th:only-of-type {\n",
       "        vertical-align: middle;\n",
       "    }\n",
       "\n",
       "    .dataframe tbody tr th {\n",
       "        vertical-align: top;\n",
       "    }\n",
       "\n",
       "    .dataframe thead th {\n",
       "        text-align: right;\n",
       "    }\n",
       "</style>\n",
       "<table border=\"1\" class=\"dataframe\">\n",
       "  <thead>\n",
       "    <tr style=\"text-align: right;\">\n",
       "      <th></th>\n",
       "      <th>CohortStudents</th>\n",
       "      <th>Dropout (Count)</th>\n",
       "    </tr>\n",
       "    <tr>\n",
       "      <th>CountyName</th>\n",
       "      <th></th>\n",
       "      <th></th>\n",
       "    </tr>\n",
       "  </thead>\n",
       "  <tbody>\n",
       "    <tr>\n",
       "      <th>Alameda</th>\n",
       "      <td>506348.0</td>\n",
       "      <td>45814.0</td>\n",
       "    </tr>\n",
       "    <tr>\n",
       "      <th>Alpine</th>\n",
       "      <td>0.0</td>\n",
       "      <td>0.0</td>\n",
       "    </tr>\n",
       "    <tr>\n",
       "      <th>Amador</th>\n",
       "      <td>9216.0</td>\n",
       "      <td>882.0</td>\n",
       "    </tr>\n",
       "    <tr>\n",
       "      <th>Butte</th>\n",
       "      <td>74011.0</td>\n",
       "      <td>6604.0</td>\n",
       "    </tr>\n",
       "    <tr>\n",
       "      <th>Calaveras</th>\n",
       "      <td>16327.0</td>\n",
       "      <td>767.0</td>\n",
       "    </tr>\n",
       "  </tbody>\n",
       "</table>\n",
       "</div>"
      ],
      "text/plain": [
       "            CohortStudents  Dropout (Count)\n",
       "CountyName                                 \n",
       "Alameda           506348.0          45814.0\n",
       "Alpine                 0.0              0.0\n",
       "Amador              9216.0            882.0\n",
       "Butte              74011.0           6604.0\n",
       "Calaveras          16327.0            767.0"
      ]
     },
     "execution_count": 11,
     "metadata": {},
     "output_type": "execute_result"
    }
   ],
   "source": [
    "grad_17_sub.head()"
   ]
  },
  {
   "cell_type": "code",
   "execution_count": 12,
   "id": "3e61ef2b",
   "metadata": {},
   "outputs": [
    {
     "data": {
      "text/html": [
       "<div>\n",
       "<style scoped>\n",
       "    .dataframe tbody tr th:only-of-type {\n",
       "        vertical-align: middle;\n",
       "    }\n",
       "\n",
       "    .dataframe tbody tr th {\n",
       "        vertical-align: top;\n",
       "    }\n",
       "\n",
       "    .dataframe thead th {\n",
       "        text-align: right;\n",
       "    }\n",
       "</style>\n",
       "<table border=\"1\" class=\"dataframe\">\n",
       "  <thead>\n",
       "    <tr style=\"text-align: right;\">\n",
       "      <th></th>\n",
       "      <th>CohortStudents</th>\n",
       "      <th>Dropout (Count)</th>\n",
       "    </tr>\n",
       "    <tr>\n",
       "      <th>CountyName</th>\n",
       "      <th></th>\n",
       "      <th></th>\n",
       "    </tr>\n",
       "  </thead>\n",
       "  <tbody>\n",
       "    <tr>\n",
       "      <th>Alameda</th>\n",
       "      <td>335763.0</td>\n",
       "      <td>27480.0</td>\n",
       "    </tr>\n",
       "    <tr>\n",
       "      <th>Amador</th>\n",
       "      <td>5827.0</td>\n",
       "      <td>250.0</td>\n",
       "    </tr>\n",
       "    <tr>\n",
       "      <th>Butte</th>\n",
       "      <td>48227.0</td>\n",
       "      <td>4118.0</td>\n",
       "    </tr>\n",
       "    <tr>\n",
       "      <th>Calaveras</th>\n",
       "      <td>7839.0</td>\n",
       "      <td>259.0</td>\n",
       "    </tr>\n",
       "    <tr>\n",
       "      <th>Colusa</th>\n",
       "      <td>7102.0</td>\n",
       "      <td>276.0</td>\n",
       "    </tr>\n",
       "  </tbody>\n",
       "</table>\n",
       "</div>"
      ],
      "text/plain": [
       "            CohortStudents  Dropout (Count)\n",
       "CountyName                                 \n",
       "Alameda           335763.0          27480.0\n",
       "Amador              5827.0            250.0\n",
       "Butte              48227.0           4118.0\n",
       "Calaveras           7839.0            259.0\n",
       "Colusa              7102.0            276.0"
      ]
     },
     "execution_count": 12,
     "metadata": {},
     "output_type": "execute_result"
    }
   ],
   "source": [
    "grad_22_sub.head()"
   ]
  },
  {
   "cell_type": "code",
   "execution_count": 13,
   "id": "2b1599e8",
   "metadata": {},
   "outputs": [
    {
     "data": {
      "text/html": [
       "<div>\n",
       "<style scoped>\n",
       "    .dataframe tbody tr th:only-of-type {\n",
       "        vertical-align: middle;\n",
       "    }\n",
       "\n",
       "    .dataframe tbody tr th {\n",
       "        vertical-align: top;\n",
       "    }\n",
       "\n",
       "    .dataframe thead th {\n",
       "        text-align: right;\n",
       "    }\n",
       "</style>\n",
       "<table border=\"1\" class=\"dataframe\">\n",
       "  <thead>\n",
       "    <tr style=\"text-align: right;\">\n",
       "      <th></th>\n",
       "      <th>County</th>\n",
       "      <th>Dropout_17</th>\n",
       "      <th>Dropout_22</th>\n",
       "    </tr>\n",
       "  </thead>\n",
       "  <tbody>\n",
       "    <tr>\n",
       "      <th>0</th>\n",
       "      <td>Alameda</td>\n",
       "      <td>9.047928</td>\n",
       "      <td>8.184344</td>\n",
       "    </tr>\n",
       "    <tr>\n",
       "      <th>1</th>\n",
       "      <td>Alpine</td>\n",
       "      <td>0.000000</td>\n",
       "      <td>0.000000</td>\n",
       "    </tr>\n",
       "    <tr>\n",
       "      <th>2</th>\n",
       "      <td>Amador</td>\n",
       "      <td>9.570312</td>\n",
       "      <td>4.290372</td>\n",
       "    </tr>\n",
       "    <tr>\n",
       "      <th>3</th>\n",
       "      <td>Butte</td>\n",
       "      <td>8.922998</td>\n",
       "      <td>8.538785</td>\n",
       "    </tr>\n",
       "    <tr>\n",
       "      <th>4</th>\n",
       "      <td>Calaveras</td>\n",
       "      <td>4.697740</td>\n",
       "      <td>3.303993</td>\n",
       "    </tr>\n",
       "  </tbody>\n",
       "</table>\n",
       "</div>"
      ],
      "text/plain": [
       "      County  Dropout_17  Dropout_22\n",
       "0    Alameda    9.047928    8.184344\n",
       "1     Alpine    0.000000    0.000000\n",
       "2     Amador    9.570312    4.290372\n",
       "3      Butte    8.922998    8.538785\n",
       "4  Calaveras    4.697740    3.303993"
      ]
     },
     "execution_count": 13,
     "metadata": {},
     "output_type": "execute_result"
    }
   ],
   "source": [
    "# Make single dataframe with rates from both\n",
    "\n",
    "grad_17_sub = grad_17_sub.reset_index()\n",
    "grad_22_sub = grad_22_sub.reset_index()\n",
    "\n",
    "# Calculate dropout rates\n",
    "\n",
    "grad_17_sub['Dropout_Rate_17'] = (grad_17_sub['Dropout (Count)'] / grad_17_sub['CohortStudents']) * 100\n",
    "grad_22_sub['Dropout_Rate_22'] = (grad_22_sub['Dropout (Count)'] / grad_22_sub['CohortStudents']) * 100\n",
    "\n",
    "df_merged = pd.merge(grad_17_sub[['CountyName', 'Dropout_Rate_17']], grad_22_sub[['CountyName', 'Dropout_Rate_22']], on='CountyName', how='outer')\n",
    "\n",
    "# Rename columns for clarity\n",
    "\n",
    "df_merged.rename(columns={'CountyName': 'County', 'Dropout_Rate_17': 'Dropout_17', 'Dropout_Rate_22': 'Dropout_22'}, inplace=True)\n",
    "df_merged.fillna(0, inplace=True)\n",
    "df_merged.head()"
   ]
  },
  {
   "cell_type": "markdown",
   "id": "8618d2d8",
   "metadata": {},
   "source": [
    "## Regression"
   ]
  },
  {
   "cell_type": "code",
   "execution_count": null,
   "id": "32255db9",
   "metadata": {},
   "outputs": [],
   "source": []
  },
  {
   "cell_type": "code",
   "execution_count": null,
   "id": "6444ccbc",
   "metadata": {},
   "outputs": [],
   "source": []
  },
  {
   "cell_type": "markdown",
   "id": "5c341548",
   "metadata": {},
   "source": []
  },
  {
   "cell_type": "markdown",
   "id": "5fde996a",
   "metadata": {},
   "source": [
    "**Hypotheses**\n",
    "\n",
    "Null Hypothesis (H$_0$): There is no relationship between violent crime rates and high school graduation rate across counties in California in the two selected years.\n",
    "\n",
    "Alternate Hypothesis (H$_a$): There is a positive relationship between violent crime and high school graduation rates across counties in California in the two selected years.\n"
   ]
  },
  {
   "cell_type": "code",
   "execution_count": 14,
   "id": "a5b9c007",
   "metadata": {},
   "outputs": [
    {
     "data": {
      "text/html": [
       "<div>\n",
       "<style scoped>\n",
       "    .dataframe tbody tr th:only-of-type {\n",
       "        vertical-align: middle;\n",
       "    }\n",
       "\n",
       "    .dataframe tbody tr th {\n",
       "        vertical-align: top;\n",
       "    }\n",
       "\n",
       "    .dataframe thead th {\n",
       "        text-align: right;\n",
       "    }\n",
       "</style>\n",
       "<table border=\"1\" class=\"dataframe\">\n",
       "  <thead>\n",
       "    <tr style=\"text-align: right;\">\n",
       "      <th></th>\n",
       "      <th>County</th>\n",
       "      <th>Dropout_17</th>\n",
       "      <th>Dropout_22</th>\n",
       "      <th>2017</th>\n",
       "      <th>2022</th>\n",
       "    </tr>\n",
       "  </thead>\n",
       "  <tbody>\n",
       "    <tr>\n",
       "      <th>0</th>\n",
       "      <td>Alameda</td>\n",
       "      <td>9.047928</td>\n",
       "      <td>8.184344</td>\n",
       "      <td>9923.0</td>\n",
       "      <td>11125.0</td>\n",
       "    </tr>\n",
       "    <tr>\n",
       "      <th>1</th>\n",
       "      <td>Alpine</td>\n",
       "      <td>0.000000</td>\n",
       "      <td>0.000000</td>\n",
       "      <td>13.0</td>\n",
       "      <td>11.0</td>\n",
       "    </tr>\n",
       "    <tr>\n",
       "      <th>2</th>\n",
       "      <td>Amador</td>\n",
       "      <td>9.570312</td>\n",
       "      <td>4.290372</td>\n",
       "      <td>115.0</td>\n",
       "      <td>136.0</td>\n",
       "    </tr>\n",
       "    <tr>\n",
       "      <th>3</th>\n",
       "      <td>Butte</td>\n",
       "      <td>8.922998</td>\n",
       "      <td>8.538785</td>\n",
       "      <td>921.0</td>\n",
       "      <td>1291.0</td>\n",
       "    </tr>\n",
       "    <tr>\n",
       "      <th>4</th>\n",
       "      <td>Calaveras</td>\n",
       "      <td>4.697740</td>\n",
       "      <td>3.303993</td>\n",
       "      <td>208.0</td>\n",
       "      <td>257.0</td>\n",
       "    </tr>\n",
       "  </tbody>\n",
       "</table>\n",
       "</div>"
      ],
      "text/plain": [
       "      County  Dropout_17  Dropout_22    2017     2022\n",
       "0    Alameda    9.047928    8.184344  9923.0  11125.0\n",
       "1     Alpine    0.000000    0.000000    13.0     11.0\n",
       "2     Amador    9.570312    4.290372   115.0    136.0\n",
       "3      Butte    8.922998    8.538785   921.0   1291.0\n",
       "4  Calaveras    4.697740    3.303993   208.0    257.0"
      ]
     },
     "execution_count": 14,
     "metadata": {},
     "output_type": "execute_result"
    }
   ],
   "source": [
    "# Combine data\n",
    "\n",
    "df_combined = pd.merge(df_merged, crime_data, on='County')\n",
    "df_combined.head()"
   ]
  },
  {
   "cell_type": "code",
   "execution_count": 15,
   "id": "18340dd1",
   "metadata": {},
   "outputs": [
    {
     "name": "stdout",
     "output_type": "stream",
     "text": [
      "Regression results for 2017:\n",
      "                            OLS Regression Results                            \n",
      "==============================================================================\n",
      "Dep. Variable:                   2017   R-squared:                       0.000\n",
      "Model:                            OLS   Adj. R-squared:                 -0.018\n",
      "Method:                 Least Squares   F-statistic:                  0.006644\n",
      "Date:                Thu, 06 Jun 2024   Prob (F-statistic):              0.935\n",
      "Time:                        00:20:55   Log-Likelihood:                -604.01\n",
      "No. Observations:                  58   AIC:                             1212.\n",
      "Df Residuals:                      56   BIC:                             1216.\n",
      "Df Model:                           1                                         \n",
      "Covariance Type:            nonrobust                                         \n",
      "==============================================================================\n",
      "                 coef    std err          t      P>|t|      [0.025      0.975]\n",
      "------------------------------------------------------------------------------\n",
      "const       3197.1194   1810.769      1.766      0.083    -430.287    6824.526\n",
      "Dropout_17   -12.1183    148.675     -0.082      0.935    -309.951     285.714\n",
      "==============================================================================\n",
      "Omnibus:                      112.968   Durbin-Watson:                   2.046\n",
      "Prob(Omnibus):                  0.000   Jarque-Bera (JB):             4157.626\n",
      "Skew:                           6.071   Prob(JB):                         0.00\n",
      "Kurtosis:                      42.661   Cond. No.                         20.6\n",
      "==============================================================================\n",
      "\n",
      "Notes:\n",
      "[1] Standard Errors assume that the covariance matrix of the errors is correctly specified.\n",
      "Regression results for 2022:\n",
      "                            OLS Regression Results                            \n",
      "==============================================================================\n",
      "Dep. Variable:                   2022   R-squared:                       0.000\n",
      "Model:                            OLS   Adj. R-squared:                 -0.018\n",
      "Method:                 Least Squares   F-statistic:                  0.001060\n",
      "Date:                Thu, 06 Jun 2024   Prob (F-statistic):              0.974\n",
      "Time:                        00:20:55   Log-Likelihood:                -605.94\n",
      "No. Observations:                  58   AIC:                             1216.\n",
      "Df Residuals:                      56   BIC:                             1220.\n",
      "Df Model:                           1                                         \n",
      "Covariance Type:            nonrobust                                         \n",
      "==============================================================================\n",
      "                 coef    std err          t      P>|t|      [0.025      0.975]\n",
      "------------------------------------------------------------------------------\n",
      "const       3368.0677   1661.794      2.027      0.047      39.095    6697.041\n",
      "Dropout_22    -4.2706    131.163     -0.033      0.974    -267.023     258.481\n",
      "==============================================================================\n",
      "Omnibus:                      109.073   Durbin-Watson:                   2.054\n",
      "Prob(Omnibus):                  0.000   Jarque-Bera (JB):             3565.720\n",
      "Skew:                           5.767   Prob(JB):                         0.00\n",
      "Kurtosis:                      39.639   Cond. No.                         19.0\n",
      "==============================================================================\n",
      "\n",
      "Notes:\n",
      "[1] Standard Errors assume that the covariance matrix of the errors is correctly specified.\n"
     ]
    }
   ],
   "source": [
    "# Define the independent and dependent variables for 2017\n",
    "X_2017 = df_combined[['Dropout_17']]\n",
    "y_2017 = df_combined['2017']\n",
    "\n",
    "# Add a constant to the independent variables\n",
    "X_2017 = sm.add_constant(X_2017)\n",
    "\n",
    "# Fit the regression model for 2017\n",
    "model_2017 = sm.OLS(y_2017, X_2017).fit()\n",
    "\n",
    "# Print the regression results for 2017\n",
    "print(\"Regression results for 2017:\")\n",
    "print(model_2017.summary())\n",
    "\n",
    "# Define the independent and dependent variables for 2022\n",
    "X_2022 = df_combined[['Dropout_22']]\n",
    "y_2022 = df_combined['2022']\n",
    "\n",
    "# Add a constant to the independent variables\n",
    "X_2022 = sm.add_constant(X_2022)\n",
    "\n",
    "# Fit the regression model for 2022\n",
    "model_2022 = sm.OLS(y_2022, X_2022).fit()\n",
    "\n",
    "# Print the regression results for 2022\n",
    "print(\"Regression results for 2022:\")\n",
    "print(model_2022.summary())"
   ]
  },
  {
   "cell_type": "code",
   "execution_count": null,
   "id": "c06edd5e",
   "metadata": {},
   "outputs": [],
   "source": []
  },
  {
   "cell_type": "code",
   "execution_count": null,
   "id": "a1e33971",
   "metadata": {},
   "outputs": [],
   "source": []
  },
  {
   "cell_type": "markdown",
   "id": "77578df7",
   "metadata": {},
   "source": [
    "## Analysis"
   ]
  },
  {
   "cell_type": "code",
   "execution_count": null,
   "id": "d18cccb6",
   "metadata": {},
   "outputs": [],
   "source": []
  },
  {
   "cell_type": "code",
   "execution_count": null,
   "id": "15da736c",
   "metadata": {},
   "outputs": [],
   "source": []
  },
  {
   "cell_type": "code",
   "execution_count": null,
   "id": "462a39c1",
   "metadata": {},
   "outputs": [],
   "source": []
  },
  {
   "cell_type": "markdown",
   "id": "cb435c6c",
   "metadata": {},
   "source": [
    "## Conclusion"
   ]
  },
  {
   "cell_type": "code",
   "execution_count": null,
   "id": "cdf5ea31",
   "metadata": {},
   "outputs": [],
   "source": []
  },
  {
   "cell_type": "code",
   "execution_count": null,
   "id": "7c7a2f1b",
   "metadata": {},
   "outputs": [],
   "source": []
  }
 ],
 "metadata": {
  "kernelspec": {
   "display_name": "Python 3 (ipykernel)",
   "language": "python",
   "name": "python3"
  },
  "language_info": {
   "codemirror_mode": {
    "name": "ipython",
    "version": 3
   },
   "file_extension": ".py",
   "mimetype": "text/x-python",
   "name": "python",
   "nbconvert_exporter": "python",
   "pygments_lexer": "ipython3",
   "version": "3.8.19"
  }
 },
 "nbformat": 4,
 "nbformat_minor": 5
}
